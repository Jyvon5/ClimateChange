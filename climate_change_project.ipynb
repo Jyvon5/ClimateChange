{
 "cells": [
  {
   "cell_type": "code",
   "execution_count": null,
   "id": "46049289-0210-47a5-a052-50225fbb29d0",
   "metadata": {},
   "outputs": [],
   "source": [
    "from pprint import pprint\n",
    "import chromadb\n",
    "import openai\n",
    "from openai import OpenAI\n",
    "import re\n",
    "from pypdf import PdfReader\n",
    "from langchain.text_splitter import RecursiveCharacterTextSplitter, SentenceTransformersTokenTextSplitter\n",
    "\n",
    "openai.api_key =\n",
    "chroma_db = chromadb.PersistentClient(path='db')"
   ]
  },
  {
   "cell_type": "markdown",
   "id": "e2a30947-0456-4039-9d5e-43bb5de3547a",
   "metadata": {},
   "source": [
    "# Text Extraction"
   ]
  },
  {
   "cell_type": "code",
   "execution_count": null,
   "id": "c6b80b15-9203-48c5-9a05-9ffae1a964c4",
   "metadata": {},
   "outputs": [],
   "source": [
    "ipcc_pdf = \"../data/IPCC_AR6_WGII_TechnicalSummary.pdf\"\n",
    "\n",
    "reader = PdfReader(ipcc_pdf)\n",
    "\n",
    "ipcc_texts = [page.extract_text() for page in reader.pages]"
   ]
  },
  {
   "cell_type": "markdown",
   "id": "be43b661-3b45-479b-87ce-2229b3529adf",
   "metadata": {},
   "source": [
    "# Show first page"
   ]
  },
  {
   "cell_type": "code",
   "execution_count": null,
   "id": "e086ea32-db76-4380-8835-92657f41a5f2",
   "metadata": {},
   "outputs": [],
   "source": [
    "pprint(ipcc_texts[0])"
   ]
  },
  {
   "cell_type": "markdown",
   "id": "e8fdc3d2-4252-4af4-b91c-3b52568a730b",
   "metadata": {},
   "source": [
    "## Filtering out beginning and end of document"
   ]
  },
  {
   "cell_type": "code",
   "execution_count": null,
   "id": "8b64470b-a9c5-4209-8044-17c5f42c9ec1",
   "metadata": {},
   "outputs": [],
   "source": [
    "pprint(ipcc_texts[4])"
   ]
  },
  {
   "cell_type": "code",
   "execution_count": null,
   "id": "08ab150c-ad0a-4902-beeb-59a013e22b3d",
   "metadata": {},
   "outputs": [],
   "source": [
    "pprint(ipcc_texts[-5])"
   ]
  },
  {
   "cell_type": "code",
   "execution_count": null,
   "id": "13c96009-2b6d-4968-9b20-296dee64f388",
   "metadata": {},
   "outputs": [],
   "source": [
    "ipcc_texts_filtered = ipcc_texts[5:-5]"
   ]
  },
  {
   "cell_type": "code",
   "execution_count": null,
   "id": "b910daf2-f688-413e-bc4c-a0cea9064d9b",
   "metadata": {},
   "outputs": [],
   "source": [
    "## Remove \"Technical Summary\" and the number before it\n",
    "\n",
    "ipcc_without_header_footer = [re.sub(r'\\d+\\nTechnical Summary', '',s) for s in ipcc_texts_filtered]"
   ]
  },
  {
   "cell_type": "code",
   "execution_count": null,
   "id": "db4e0e5e-d4da-457a-bd57-dff8e2a5419a",
   "metadata": {},
   "outputs": [],
   "source": [
    "pprint(ipcc_without_header_footer[0])"
   ]
  },
  {
   "cell_type": "code",
   "execution_count": null,
   "id": "0a11fc7e-b004-4bda-a119-d66365f41825",
   "metadata": {},
   "outputs": [],
   "source": [
    "ipcc_texts[5:10]"
   ]
  },
  {
   "cell_type": "code",
   "execution_count": null,
   "id": "f332abc5-17c9-4baf-8a46-32a10f4465a5",
   "metadata": {},
   "outputs": [],
   "source": [
    "## Want to remove \\nTS and TS\\n\n",
    "ipcc_without_header_footer = [re.sub(r'\\nTS', '',s) for s in ipcc_without_header_footer]\n",
    "\n",
    "ipcc_without_header_footer = [re.sub(r'TS\\n', '',s) for s in ipcc_without_header_footer]"
   ]
  },
  {
   "cell_type": "code",
   "execution_count": null,
   "id": "b594fc41-efd3-402e-ba3c-2038e37c9ea8",
   "metadata": {},
   "outputs": [],
   "source": [
    "pprint(ipcc_without_header_footer[5])"
   ]
  },
  {
   "cell_type": "markdown",
   "id": "6e645a8b-b770-4824-901b-adf9224e4c75",
   "metadata": {},
   "source": [
    "## Splitting the text"
   ]
  },
  {
   "cell_type": "code",
   "execution_count": null,
   "id": "84d7be57-b0fc-4dbc-aba0-096988da65cb",
   "metadata": {},
   "outputs": [],
   "source": [
    "char_splitter = RecursiveCharacterTextSplitter(separators=[\"\\n\\n\", \"\\n\", \".\", \" \", \"\"], chunk_size=1000, chunk_overlap=0.2)"
   ]
  },
  {
   "cell_type": "code",
   "execution_count": null,
   "id": "8a8b5c46-07c9-48cc-a53e-50439ec9a9c7",
   "metadata": {},
   "outputs": [],
   "source": [
    "texts_char_split = char_splitter.split_text(\"\\n\\n\".join(ipcc_without_header_footer))\n",
    "\n",
    "len(texts_char_split)"
   ]
  },
  {
   "cell_type": "markdown",
   "id": "0cce3b17-8ea3-41a1-ba31-3056945358f2",
   "metadata": {},
   "source": [
    "## Token Split"
   ]
  },
  {
   "cell_type": "code",
   "execution_count": null,
   "id": "039cfdaa-8ddc-4dcd-979c-e5a1cb0c7b8c",
   "metadata": {},
   "outputs": [],
   "source": [
    "token_splitter = SentenceTransformersTokenTextSplitter(chunk_overlap=2, tokens_per_chunk=256)"
   ]
  },
  {
   "cell_type": "code",
   "execution_count": null,
   "id": "0aa8873c-41ef-4f5c-b26e-7f6e0eb241a7",
   "metadata": {},
   "outputs": [],
   "source": [
    "texts_token_splitted = []\n",
    "\n",
    "for text in texts_char_split:\n",
    "    texts_token_splitted.extend(token_splitter.split_text(text))"
   ]
  },
  {
   "cell_type": "code",
   "execution_count": null,
   "id": "081bad55-b0d2-494c-b626-813105edd68d",
   "metadata": {},
   "outputs": [],
   "source": [
    "## Printing number of chunks\n",
    "print(f\"Number of chunks: {len(texts_token_splitted)}\")"
   ]
  },
  {
   "cell_type": "code",
   "execution_count": null,
   "id": "88a00e9d-bde2-47f5-b0ba-ef1460b9f1e4",
   "metadata": {},
   "outputs": [],
   "source": [
    "## First chunk\n",
    "texts_token_splitted[0]"
   ]
  },
  {
   "cell_type": "markdown",
   "id": "35d187d7-8107-4290-85d5-de34a3ba99ee",
   "metadata": {},
   "source": [
    "# Vector Database"
   ]
  },
  {
   "cell_type": "code",
   "execution_count": null,
   "id": "29ebad0d-e11a-4780-84ce-d1aa4963a250",
   "metadata": {},
   "outputs": [],
   "source": [
    "chroma_db = chromadb.PersistentClient(path=\"db\")"
   ]
  },
  {
   "cell_type": "code",
   "execution_count": null,
   "id": "f0745f0e-e13a-4b8e-973c-f5687a05aa60",
   "metadata": {},
   "outputs": [],
   "source": [
    "chroma_collection=chroma_db.get_or_create_collection(\"ipcc\")"
   ]
  },
  {
   "cell_type": "markdown",
   "id": "1244f291-ec78-4537-aa53-092fa8a410cb",
   "metadata": {},
   "source": [
    "## Adding Documents"
   ]
  },
  {
   "cell_type": "code",
   "execution_count": null,
   "id": "9a315d23-5dc3-420c-bfc0-787d9b600bc4",
   "metadata": {},
   "outputs": [],
   "source": [
    "ids = [str(i) for i in range(len(texts_token_splitted))]\n",
    "\n",
    "chroma_collection.add(documents=texts_token_splitted, ids=ids)"
   ]
  },
  {
   "cell_type": "markdown",
   "id": "3589a5cd-700a-4f7a-9442-aff1d8b482a4",
   "metadata": {},
   "source": [
    "## Query"
   ]
  },
  {
   "cell_type": "code",
   "execution_count": null,
   "id": "757b66c8-2b51-4398-a1ef-323e5ace0589",
   "metadata": {},
   "outputs": [],
   "source": [
    "query = \"What is the impact of climate change on the ocean\"\n",
    "\n",
    "res = chroma_collection.query(query_texts=[query], n_results=5)\n",
    "\n",
    "res['documents']"
   ]
  },
  {
   "cell_type": "markdown",
   "id": "e1baf8be-fdaa-4920-92fa-527d1f0e5b81",
   "metadata": {},
   "source": [
    "# RAG"
   ]
  },
  {
   "cell_type": "code",
   "execution_count": null,
   "id": "1a0cb8a0-d4bd-40f6-9a7f-be8d58d722dd",
   "metadata": {},
   "outputs": [],
   "source": [
    "def rag(query, num_results=5):\n",
    "    res = chroma_collection.query(query_texts=[query], n_results=num_results)\n",
    "\n",
    "    documents = res['documents'][0]\n",
    "\n",
    "    joined_info = \";\".join([doc for doc in documents])\n",
    "\n",
    "    messages = [\n",
    "        {\n",
    "            \"role\": \"system\",\n",
    "            \"content\": \"You are a helpful expert on climate change. Your users are asking questions about information contained in attached information. You will be shown the user's question, and the relevant information. Answer the user's question using only this information.\"\n",
    "        },\n",
    "        {\n",
    "            \"role\": \"user\",\n",
    "            \"content\": f\"Question: {query} \\n Information: {joined_info} \\n Answer:\"\n",
    "        }\n",
    "    ]\n",
    "\n",
    "    openai_bot = OpenAI()\n",
    "    bot_response = openai_bot.chat.completions.create(\n",
    "        model=\"gpt-4o-mini-2024-07-18\",\n",
    "        messages=messages\n",
    "    )\n",
    "\n",
    "    content = bot_response.choices[0].message.content\n",
    "    return content"
   ]
  },
  {
   "cell_type": "markdown",
   "id": "d207b55e-b9ac-4b6f-9ef4-980a856dee3e",
   "metadata": {},
   "source": [
    "## Test"
   ]
  },
  {
   "cell_type": "code",
   "execution_count": null,
   "id": "9d04e018-115d-4863-9f27-1169e46876a2",
   "metadata": {},
   "outputs": [],
   "source": [
    "query = \"What is the impact of climate change on the ocean?\"\n",
    "rag(query)"
   ]
  }
 ],
 "metadata": {
  "kernelspec": {
   "display_name": "Python 3 (ipykernel)",
   "language": "python",
   "name": "python3"
  },
  "language_info": {
   "codemirror_mode": {
    "name": "ipython",
    "version": 3
   },
   "file_extension": ".py",
   "mimetype": "text/x-python",
   "name": "python",
   "nbconvert_exporter": "python",
   "pygments_lexer": "ipython3",
   "version": "3.12.4"
  }
 },
 "nbformat": 4,
 "nbformat_minor": 5
}
